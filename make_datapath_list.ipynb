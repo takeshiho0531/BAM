{
 "cells": [
  {
   "cell_type": "code",
   "execution_count": 1,
   "metadata": {},
   "outputs": [
    {
     "name": "stderr",
     "output_type": "stream",
     "text": [
      "/Users/kawadatakeshiho/opt/anaconda3/envs/My_Env/lib/python3.10/site-packages/tqdm/auto.py:22: TqdmWarning: IProgress not found. Please update jupyter and ipywidgets. See https://ipywidgets.readthedocs.io/en/stable/user_install.html\n",
      "  from .autonotebook import tqdm as notebook_tqdm\n"
     ]
    },
    {
     "ename": "ModuleNotFoundError",
     "evalue": "No module named 'utils'",
     "output_type": "error",
     "traceback": [
      "\u001b[0;31m---------------------------------------------------------------------------\u001b[0m",
      "\u001b[0;31mModuleNotFoundError\u001b[0m                       Traceback (most recent call last)",
      "Cell \u001b[0;32mIn[1], line 6\u001b[0m\n\u001b[1;32m      3\u001b[0m \u001b[39mfrom\u001b[39;00m \u001b[39mPIL\u001b[39;00m \u001b[39mimport\u001b[39;00m Image\n\u001b[1;32m      4\u001b[0m \u001b[39mimport\u001b[39;00m \u001b[39mtorch\u001b[39;00m\u001b[39m.\u001b[39;00m\u001b[39mutils\u001b[39;00m\u001b[39m.\u001b[39;00m\u001b[39mdata\u001b[39;00m \u001b[39mas\u001b[39;00m \u001b[39mdata\u001b[39;00m\n\u001b[0;32m----> 6\u001b[0m \u001b[39mfrom\u001b[39;00m \u001b[39mutils\u001b[39;00m\u001b[39m.\u001b[39;00m\u001b[39mdata_augumentation\u001b[39;00m \u001b[39mimport\u001b[39;00m Compose, Scale, RandomRotation, RandomMirror, Resize, Normalize_Tensor\n",
      "\u001b[0;31mModuleNotFoundError\u001b[0m: No module named 'utils'"
     ]
    }
   ],
   "source": [
    "# パッケージのimport\n",
    "import os.path as osp\n",
    "from PIL import Image\n",
    "import torch.utils.data as data\n",
    "\n",
    "from utils.data_augumentation import Compose, Scale, RandomRotation, RandomMirror, Resize, Normalize_Tensor\n"
   ]
  },
  {
   "cell_type": "code",
   "execution_count": null,
   "metadata": {},
   "outputs": [],
   "source": [
    "def make_datapath_list(rootpath):\n",
    "    \"\"\"\n",
    "    学習、検証の画像データとアノテーションデータへのファイルパスリストを作成する。\n",
    "    Parameters\n",
    "    ----------\n",
    "    rootpath : str\n",
    "        データフォルダへのパス\n",
    "    Returns\n",
    "    -------\n",
    "    ret : train_img_list, train_anno_list, val_img_list, val_anno_list\n",
    "        データへのパスを格納したリスト\n",
    "    \"\"\"\n",
    "\n",
    "    # 画像ファイルとアノテーションファイルへのパスのテンプレートを作成\n",
    "    imgpath_template = osp.join(rootpath, 'MSCOCO2014', '%s.jpg')\n",
    "    annopath_template = osp.join(rootpath, 'MSCOCO2014/annotations', '%s.png')\n",
    "\n",
    "    # 訓練と検証、それぞれのファイルのID（ファイル名）を取得する\n",
    "    train_id_names = osp.join(rootpath + 'ImageSets/Segmentation/train.txt')\n",
    "    val_id_names = osp.join(rootpath + 'ImageSets/Segmentation/val.txt')\n",
    "\n",
    "    # 訓練データの画像ファイルとアノテーションファイルへのパスリストを作成\n",
    "    train_img_list = list()\n",
    "    train_anno_list = list()\n",
    "\n",
    "    for line in open(train_id_names):\n",
    "        file_id = line.strip()  # 空白スペースと改行を除去\n",
    "        img_path = (imgpath_template % file_id)  # 画像のパス\n",
    "        anno_path = (annopath_template % file_id)  # アノテーションのパス\n",
    "        train_img_list.append(img_path)\n",
    "        train_anno_list.append(anno_path)\n",
    "\n",
    "    # 検証データの画像ファイルとアノテーションファイルへのパスリストを作成\n",
    "    val_img_list = list()\n",
    "    val_anno_list = list()\n",
    "\n",
    "    for line in open(val_id_names):\n",
    "        file_id = line.strip()  # 空白スペースと改行を除去\n",
    "        img_path = (imgpath_template % file_id)  # 画像のパス\n",
    "        anno_path = (annopath_template % file_id)  # アノテーションのパス\n",
    "        val_img_list.append(img_path)\n",
    "        val_anno_list.append(anno_path)\n",
    "\n",
    "    return train_img_list, train_anno_list, val_img_list, val_anno_list"
   ]
  }
 ],
 "metadata": {
  "kernelspec": {
   "display_name": "My_Env",
   "language": "python",
   "name": "python3"
  },
  "language_info": {
   "codemirror_mode": {
    "name": "ipython",
    "version": 3
   },
   "file_extension": ".py",
   "mimetype": "text/x-python",
   "name": "python",
   "nbconvert_exporter": "python",
   "pygments_lexer": "ipython3",
   "version": "3.10.6"
  },
  "orig_nbformat": 4,
  "vscode": {
   "interpreter": {
    "hash": "94aebca3f1ad11cf6b3c751cf3556387a40cb2f488e0cf1be099d5821379a8ec"
   }
  }
 },
 "nbformat": 4,
 "nbformat_minor": 2
}
